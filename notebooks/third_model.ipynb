{
 "cells": [
  {
   "cell_type": "markdown",
   "metadata": {},
   "source": [
    "# 유용한 특성 선택하기\n",
    "\n",
    "두 번째 모델의 특성 중요도를 보면 TF-IDF 벡터 특성은 가장 중요한 특성에서 빠져있습니다. 이 특성을 제외하고도 모델의 잘 수행되는지 확인하기 위해 이 특성들을 빼고 세 번째 모델을 훈련해 보겠습니다."
   ]
  },
  {
   "cell_type": "code",
   "execution_count": 1,
   "metadata": {},
   "outputs": [
    {
     "name": "stderr",
     "output_type": "stream",
     "text": [
      "[nltk_data] Downloading package vader_lexicon to\n",
      "[nltk_data]     /home/haesun/nltk_data...\n",
      "[nltk_data]   Package vader_lexicon is already up-to-date!\n"
     ]
    }
   ],
   "source": [
    "import pandas as pd\n",
    "import numpy as np\n",
    "import matplotlib.pyplot as plt\n",
    "from pathlib import Path\n",
    "from sklearn.ensemble import RandomForestClassifier\n",
    "from sklearn.metrics import accuracy_score, f1_score, precision_score, recall_score, classification_report\n",
    "import joblib\n",
    "import sys\n",
    "sys.path.append(\"..\")\n",
    "import warnings\n",
    "warnings.filterwarnings('ignore')\n",
    "\n",
    "from ml_editor.data_processing import (\n",
    "    format_raw_df,\n",
    "    get_split_by_author\n",
    ")\n",
    "from ml_editor.model_v2 import (\n",
    "    add_char_count_features,\n",
    "    get_word_stats,\n",
    "    get_sentiment_score,\n",
    "    POS_NAMES,\n",
    "    get_question_score_from_input\n",
    ")\n",
    "from ml_editor.model_evaluation import (\n",
    "    get_feature_importance,\n",
    "    get_roc_plot,\n",
    "    get_confusion_matrix_plot,\n",
    "    get_calibration_plot\n",
    ")\n",
    "%load_ext autoreload\n",
    "%autoreload 2\n",
    "np.random.seed(35)\n",
    "\n",
    "data_path = Path('../data/writers.csv')\n",
    "df = pd.read_csv(data_path)\n",
    "df = format_raw_df(df.copy())\n",
    "\n",
    "df = df.loc[df[\"is_question\"]].copy()"
   ]
  },
  {
   "cell_type": "code",
   "execution_count": 2,
   "metadata": {},
   "outputs": [],
   "source": [
    "df[\"full_text\"] = df[\"Title\"].str.cat(df[\"body_text\"], sep=\" \", na_rep=\"\")"
   ]
  },
  {
   "cell_type": "markdown",
   "metadata": {},
   "source": [
    "아래 함수는 특성을 추가합니다. 이 함수에 대한 자세한 내용은 `ml_editor` 소스 코드를 참고하세요."
   ]
  },
  {
   "cell_type": "code",
   "execution_count": 3,
   "metadata": {},
   "outputs": [
    {
     "name": "stderr",
     "output_type": "stream",
     "text": [
      "100%|████████████████████████████████████████████████████████████████████████████████████████████████████| 7971/7971 [03:59<00:00, 33.24it/s]\n",
      "100%|███████████████████████████████████████████████████████████████████████████████████████████████████| 7971/7971 [00:12<00:00, 659.39it/s]\n"
     ]
    }
   ],
   "source": [
    "df = add_char_count_features(df.copy())\n",
    "df = get_word_stats(df.copy())\n",
    "df = get_sentiment_score(df.copy())"
   ]
  },
  {
   "cell_type": "code",
   "execution_count": 4,
   "metadata": {},
   "outputs": [],
   "source": [
    "feature_arr = [\"num_questions\", \n",
    "               \"num_periods\",\n",
    "               \"num_commas\",\n",
    "               \"num_exclam\",\n",
    "               \"num_quotes\",\n",
    "               \"num_colon\",\n",
    "               \"num_stops\",\n",
    "               \"num_semicolon\",\n",
    "               \"num_words\",\n",
    "               \"num_chars\",\n",
    "               \"num_diff_words\",\n",
    "               \"avg_word_len\",\n",
    "               \"polarity\"\n",
    "              ]\n",
    "feature_arr.extend(POS_NAMES.keys())"
   ]
  },
  {
   "cell_type": "markdown",
   "metadata": {},
   "source": [
    "# 모델\n",
    "\n",
    "새로운 특성을 추가했으니 새 모델을 훈련해 보겠습니다. 이전과 동일한 구조를 사용하지만 새로운 특성을 사용합니다. 아래 새로운 특성을 출력해 보겠습니다."
   ]
  },
  {
   "cell_type": "code",
   "execution_count": 5,
   "metadata": {},
   "outputs": [],
   "source": [
    "# 추가된 특성이 있으므로 데이터를 다시 분할합니다.\n",
    "train_df, test_df = get_split_by_author(df, test_size=0.2, random_state=40)"
   ]
  },
  {
   "cell_type": "code",
   "execution_count": 6,
   "metadata": {},
   "outputs": [
    {
     "data": {
      "text/html": [
       "<div>\n",
       "<style scoped>\n",
       "    .dataframe tbody tr th:only-of-type {\n",
       "        vertical-align: middle;\n",
       "    }\n",
       "\n",
       "    .dataframe tbody tr th {\n",
       "        vertical-align: top;\n",
       "    }\n",
       "\n",
       "    .dataframe thead th {\n",
       "        text-align: right;\n",
       "    }\n",
       "</style>\n",
       "<table border=\"1\" class=\"dataframe\">\n",
       "  <thead>\n",
       "    <tr style=\"text-align: right;\">\n",
       "      <th></th>\n",
       "      <th>num_questions</th>\n",
       "      <th>num_periods</th>\n",
       "      <th>num_commas</th>\n",
       "      <th>num_exclam</th>\n",
       "      <th>num_quotes</th>\n",
       "      <th>num_colon</th>\n",
       "      <th>num_stops</th>\n",
       "      <th>num_semicolon</th>\n",
       "      <th>num_words</th>\n",
       "      <th>num_chars</th>\n",
       "      <th>...</th>\n",
       "      <th>NOUN</th>\n",
       "      <th>NUM</th>\n",
       "      <th>PART</th>\n",
       "      <th>PRON</th>\n",
       "      <th>PROPN</th>\n",
       "      <th>PUNCT</th>\n",
       "      <th>SCONJ</th>\n",
       "      <th>SYM</th>\n",
       "      <th>VERB</th>\n",
       "      <th>X</th>\n",
       "    </tr>\n",
       "    <tr>\n",
       "      <th>Id</th>\n",
       "      <th></th>\n",
       "      <th></th>\n",
       "      <th></th>\n",
       "      <th></th>\n",
       "      <th></th>\n",
       "      <th></th>\n",
       "      <th></th>\n",
       "      <th></th>\n",
       "      <th></th>\n",
       "      <th></th>\n",
       "      <th></th>\n",
       "      <th></th>\n",
       "      <th></th>\n",
       "      <th></th>\n",
       "      <th></th>\n",
       "      <th></th>\n",
       "      <th></th>\n",
       "      <th></th>\n",
       "      <th></th>\n",
       "      <th></th>\n",
       "      <th></th>\n",
       "    </tr>\n",
       "  </thead>\n",
       "  <tbody>\n",
       "    <tr>\n",
       "      <th>1</th>\n",
       "      <td>56.818182</td>\n",
       "      <td>56.818182</td>\n",
       "      <td>28.409091</td>\n",
       "      <td>0.0</td>\n",
       "      <td>0.000000</td>\n",
       "      <td>0.0</td>\n",
       "      <td>1022.727273</td>\n",
       "      <td>0.0</td>\n",
       "      <td>2073.863636</td>\n",
       "      <td>35200</td>\n",
       "      <td>...</td>\n",
       "      <td>3.409091</td>\n",
       "      <td>0.000000</td>\n",
       "      <td>1.136364</td>\n",
       "      <td>2.272727</td>\n",
       "      <td>0.000000</td>\n",
       "      <td>1.988636</td>\n",
       "      <td>0.568182</td>\n",
       "      <td>0.000000</td>\n",
       "      <td>3.409091</td>\n",
       "      <td>0.0</td>\n",
       "    </tr>\n",
       "    <tr>\n",
       "      <th>2</th>\n",
       "      <td>90.634441</td>\n",
       "      <td>30.211480</td>\n",
       "      <td>60.422961</td>\n",
       "      <td>0.0</td>\n",
       "      <td>60.422961</td>\n",
       "      <td>0.0</td>\n",
       "      <td>1087.613293</td>\n",
       "      <td>0.0</td>\n",
       "      <td>2024.169184</td>\n",
       "      <td>33100</td>\n",
       "      <td>...</td>\n",
       "      <td>4.531722</td>\n",
       "      <td>0.000000</td>\n",
       "      <td>0.000000</td>\n",
       "      <td>1.510574</td>\n",
       "      <td>0.000000</td>\n",
       "      <td>2.416918</td>\n",
       "      <td>0.302115</td>\n",
       "      <td>0.000000</td>\n",
       "      <td>0.906344</td>\n",
       "      <td>0.0</td>\n",
       "    </tr>\n",
       "    <tr>\n",
       "      <th>3</th>\n",
       "      <td>175.438596</td>\n",
       "      <td>87.719298</td>\n",
       "      <td>87.719298</td>\n",
       "      <td>0.0</td>\n",
       "      <td>0.000000</td>\n",
       "      <td>0.0</td>\n",
       "      <td>1491.228070</td>\n",
       "      <td>0.0</td>\n",
       "      <td>2719.298246</td>\n",
       "      <td>11400</td>\n",
       "      <td>...</td>\n",
       "      <td>2.631579</td>\n",
       "      <td>0.877193</td>\n",
       "      <td>0.000000</td>\n",
       "      <td>6.140351</td>\n",
       "      <td>0.000000</td>\n",
       "      <td>3.508772</td>\n",
       "      <td>1.754386</td>\n",
       "      <td>0.000000</td>\n",
       "      <td>5.263158</td>\n",
       "      <td>0.0</td>\n",
       "    </tr>\n",
       "    <tr>\n",
       "      <th>5</th>\n",
       "      <td>70.257611</td>\n",
       "      <td>46.838407</td>\n",
       "      <td>117.096019</td>\n",
       "      <td>0.0</td>\n",
       "      <td>0.000000</td>\n",
       "      <td>0.0</td>\n",
       "      <td>843.091335</td>\n",
       "      <td>0.0</td>\n",
       "      <td>2154.566745</td>\n",
       "      <td>42700</td>\n",
       "      <td>...</td>\n",
       "      <td>3.747073</td>\n",
       "      <td>0.000000</td>\n",
       "      <td>1.170960</td>\n",
       "      <td>0.936768</td>\n",
       "      <td>0.000000</td>\n",
       "      <td>2.810304</td>\n",
       "      <td>0.468384</td>\n",
       "      <td>0.234192</td>\n",
       "      <td>3.512881</td>\n",
       "      <td>0.0</td>\n",
       "    </tr>\n",
       "    <tr>\n",
       "      <th>7</th>\n",
       "      <td>135.135135</td>\n",
       "      <td>67.567568</td>\n",
       "      <td>67.567568</td>\n",
       "      <td>0.0</td>\n",
       "      <td>0.000000</td>\n",
       "      <td>0.0</td>\n",
       "      <td>945.945946</td>\n",
       "      <td>0.0</td>\n",
       "      <td>2027.027027</td>\n",
       "      <td>14800</td>\n",
       "      <td>...</td>\n",
       "      <td>2.702703</td>\n",
       "      <td>0.000000</td>\n",
       "      <td>0.000000</td>\n",
       "      <td>2.702703</td>\n",
       "      <td>1.351351</td>\n",
       "      <td>2.702703</td>\n",
       "      <td>0.675676</td>\n",
       "      <td>0.000000</td>\n",
       "      <td>1.351351</td>\n",
       "      <td>0.0</td>\n",
       "    </tr>\n",
       "  </tbody>\n",
       "</table>\n",
       "<p>5 rows × 30 columns</p>\n",
       "</div>"
      ],
      "text/plain": [
       "    num_questions  num_periods  num_commas  num_exclam  num_quotes  num_colon  \\\n",
       "Id                                                                              \n",
       "1       56.818182    56.818182   28.409091         0.0    0.000000        0.0   \n",
       "2       90.634441    30.211480   60.422961         0.0   60.422961        0.0   \n",
       "3      175.438596    87.719298   87.719298         0.0    0.000000        0.0   \n",
       "5       70.257611    46.838407  117.096019         0.0    0.000000        0.0   \n",
       "7      135.135135    67.567568   67.567568         0.0    0.000000        0.0   \n",
       "\n",
       "      num_stops  num_semicolon    num_words  num_chars  ...      NOUN  \\\n",
       "Id                                                      ...             \n",
       "1   1022.727273            0.0  2073.863636      35200  ...  3.409091   \n",
       "2   1087.613293            0.0  2024.169184      33100  ...  4.531722   \n",
       "3   1491.228070            0.0  2719.298246      11400  ...  2.631579   \n",
       "5    843.091335            0.0  2154.566745      42700  ...  3.747073   \n",
       "7    945.945946            0.0  2027.027027      14800  ...  2.702703   \n",
       "\n",
       "         NUM      PART      PRON     PROPN     PUNCT     SCONJ       SYM  \\\n",
       "Id                                                                         \n",
       "1   0.000000  1.136364  2.272727  0.000000  1.988636  0.568182  0.000000   \n",
       "2   0.000000  0.000000  1.510574  0.000000  2.416918  0.302115  0.000000   \n",
       "3   0.877193  0.000000  6.140351  0.000000  3.508772  1.754386  0.000000   \n",
       "5   0.000000  1.170960  0.936768  0.000000  2.810304  0.468384  0.234192   \n",
       "7   0.000000  0.000000  2.702703  1.351351  2.702703  0.675676  0.000000   \n",
       "\n",
       "        VERB    X  \n",
       "Id                 \n",
       "1   3.409091  0.0  \n",
       "2   0.906344  0.0  \n",
       "3   5.263158  0.0  \n",
       "5   3.512881  0.0  \n",
       "7   1.351351  0.0  \n",
       "\n",
       "[5 rows x 30 columns]"
      ]
     },
     "execution_count": 6,
     "metadata": {},
     "output_type": "execute_result"
    }
   ],
   "source": [
    "df[feature_arr].head()*100"
   ]
  },
  {
   "cell_type": "code",
   "execution_count": 7,
   "metadata": {},
   "outputs": [],
   "source": [
    "def get_feature_vector_and_label(df, feature_names):\n",
    "    \"\"\"\n",
    "    벡터 특성과 특성 이름으로 입력과 출력 벡터를 생성합니다.\n",
    "    :param df: 입력 DataFrame\n",
    "    :param feature_names: (벡터가 아닌) 특성 열의 이름 \n",
    "    :return: 특성 배열과 레이블 배열\n",
    "    \"\"\"\n",
    "    features = df[feature_names].astype(float)\n",
    "    labels = df[\"Score\"] > df[\"Score\"].median()\n",
    "    return features, labels\n",
    "\n",
    "X_train, y_train = get_feature_vector_and_label(train_df, feature_arr)\n",
    "X_test, y_test = get_feature_vector_and_label(test_df, feature_arr)"
   ]
  },
  {
   "cell_type": "code",
   "execution_count": 8,
   "metadata": {},
   "outputs": [
    {
     "data": {
      "text/plain": [
       "False    3483\n",
       "True     2959\n",
       "Name: Score, dtype: int64"
      ]
     },
     "execution_count": 8,
     "metadata": {},
     "output_type": "execute_result"
    }
   ],
   "source": [
    "y_train.value_counts()"
   ]
  },
  {
   "cell_type": "code",
   "execution_count": 9,
   "metadata": {},
   "outputs": [
    {
     "data": {
      "text/plain": [
       "(1529, 30)"
      ]
     },
     "execution_count": 9,
     "metadata": {},
     "output_type": "execute_result"
    }
   ],
   "source": [
    "X_test.shape"
   ]
  },
  {
   "cell_type": "markdown",
   "metadata": {},
   "source": [
    "`sklearn`을 사용해 모델을 훈련하고 이전에 설명한 방법으로 성능을 측정합니다."
   ]
  },
  {
   "cell_type": "code",
   "execution_count": 10,
   "metadata": {},
   "outputs": [],
   "source": [
    "clf = RandomForestClassifier(n_estimators=100, class_weight='balanced', oob_score=True)\n",
    "clf.fit(X_train, y_train)\n",
    "\n",
    "y_predicted = clf.predict(X_test)\n",
    "y_predicted_proba = clf.predict_proba(X_test)"
   ]
  },
  {
   "cell_type": "code",
   "execution_count": 11,
   "metadata": {},
   "outputs": [
    {
     "name": "stdout",
     "output_type": "stream",
     "text": [
      "훈련 정확도 = 0.578, 정밀도 = 0.551, 재현율 = 0.440, f1 = 0.489\n"
     ]
    }
   ],
   "source": [
    "def get_metrics(y_test, y_predicted):  \n",
    "    # 진짜 양성 / (진짜 양성 + 가짜 양성)\n",
    "    precision = precision_score(y_test, y_predicted, pos_label=True,\n",
    "                                    average='binary')             \n",
    "    # 진짜 양성 / (진짜 양성 + 가짜 음성)\n",
    "    recall = recall_score(y_test, y_predicted, pos_label=True,\n",
    "                              average='binary')\n",
    "    \n",
    "    # 정밀도와 재현율의 조화 평균\n",
    "    f1 = f1_score(y_test, y_predicted, pos_label=True, average='binary')\n",
    "    \n",
    "    # 진짜 양성 + 진짜 음성 / 전체\n",
    "    accuracy = accuracy_score(y_test, y_predicted)\n",
    "    return accuracy, precision, recall, f1\n",
    "\n",
    "\n",
    "# 훈련 정확도\n",
    "# https://datascience.stackexchange.com/questions/13151/randomforestclassifier-oob-scoring-method 참조\n",
    "y_train_pred = np.argmax(clf.oob_decision_function_,axis=1)\n",
    "\n",
    "accuracy, precision, recall, f1 = get_metrics(y_train, y_train_pred)\n",
    "print(\"훈련 정확도 = %.3f, 정밀도 = %.3f, 재현율 = %.3f, f1 = %.3f\" % (accuracy, precision, recall, f1))"
   ]
  },
  {
   "cell_type": "code",
   "execution_count": 12,
   "metadata": {},
   "outputs": [
    {
     "name": "stdout",
     "output_type": "stream",
     "text": [
      "검증 정확도 = 0.578, 정밀도 = 0.591, 재현율 = 0.449, f1 = 0.510\n"
     ]
    }
   ],
   "source": [
    "accuracy, precision, recall, f1 = get_metrics(y_test, y_predicted)\n",
    "print(\"검증 정확도 = %.3f, 정밀도 = %.3f, 재현율 = %.3f, f1 = %.3f\" % (accuracy, precision, recall, f1))"
   ]
  },
  {
   "cell_type": "markdown",
   "metadata": {},
   "source": [
    "새로운 모델과 벡터화 객체를 나중에 사용하기 위해 디스크에 저장합니다."
   ]
  },
  {
   "cell_type": "code",
   "execution_count": 13,
   "metadata": {},
   "outputs": [
    {
     "data": {
      "text/plain": [
       "['../models/model_3.pkl']"
      ]
     },
     "execution_count": 13,
     "metadata": {},
     "output_type": "execute_result"
    }
   ],
   "source": [
    "model_path = Path(\"../models/model_3.pkl\")\n",
    "joblib.dump(clf, model_path) "
   ]
  },
  {
   "cell_type": "markdown",
   "metadata": {},
   "source": [
    "## 특성의 유용성 검증하기\n",
    "\n",
    "새로운 특성을 모델이 사용하는 확인하기 위해 특성 중요도를 살펴 보겠습니다."
   ]
  },
  {
   "cell_type": "code",
   "execution_count": 14,
   "metadata": {},
   "outputs": [],
   "source": [
    "all_feature_names = np.array(feature_arr)"
   ]
  },
  {
   "cell_type": "code",
   "execution_count": 15,
   "metadata": {
    "scrolled": true
   },
   "outputs": [
    {
     "name": "stdout",
     "output_type": "stream",
     "text": [
      "상위 20개 중요도:\n",
      "\n",
      "num_chars: 0.05\n",
      "num_periods: 0.048\n",
      "num_questions: 0.048\n",
      "ADJ: 0.047\n",
      "AUX: 0.046\n",
      "num_diff_words: 0.045\n",
      "ADV: 0.044\n",
      "DET: 0.044\n",
      "PUNCT: 0.043\n",
      "ADP: 0.042\n",
      "num_stops: 0.041\n",
      "NOUN: 0.041\n",
      "PART: 0.041\n",
      "num_commas: 0.04\n",
      "VERB: 0.04\n",
      "PRON: 0.04\n",
      "SCONJ: 0.04\n",
      "num_words: 0.039\n",
      "polarity: 0.038\n",
      "avg_word_len: 0.038\n",
      "\n",
      "하위 20개 중요도:\n",
      "\n",
      "num_stops: 0.041\n",
      "NOUN: 0.041\n",
      "PART: 0.041\n",
      "num_commas: 0.04\n",
      "VERB: 0.04\n",
      "PRON: 0.04\n",
      "SCONJ: 0.04\n",
      "num_words: 0.039\n",
      "polarity: 0.038\n",
      "avg_word_len: 0.038\n",
      "PROPN: 0.031\n",
      "NUM: 0.024\n",
      "num_colon: 0.022\n",
      "num_quotes: 0.018\n",
      "SYM: 0.014\n",
      "INTJ: 0.011\n",
      "X: 0.011\n",
      "num_semicolon: 0.0071\n",
      "num_exclam: 0.0064\n",
      "CONJ: 0\n"
     ]
    }
   ],
   "source": [
    "k = 20\n",
    "print(\"상위 %s개 중요도:\\n\" % k)\n",
    "print('\\n'.join([\"%s: %.2g\" % (tup[0], tup[1]) for tup in get_feature_importance(clf, all_feature_names)[:k]]))\n",
    "\n",
    "print(\"\\n하위 %s개 중요도:\\n\" % k)\n",
    "print('\\n'.join([\"%s: %.2g\" % (tup[0], tup[1]) for tup in get_feature_importance(clf, all_feature_names)[-k:]]))"
   ]
  },
  {
   "cell_type": "markdown",
   "metadata": {},
   "source": [
    "## 예측과 데이터 비교하기\n",
    "\n",
    "이 섹션은 새로운 모델로 데이터와 예측 비교하기 [노트북](https://github.com/rickiepark/ml-powered-applications/blob/master/notebooks/comparing_data_to_predictions.ipynb)에서 설명한 평가 방법을 사용합니다."
   ]
  },
  {
   "cell_type": "code",
   "execution_count": 16,
   "metadata": {},
   "outputs": [
    {
     "data": {
      "image/png": "[encoded data removed]",
      "text/plain": [
       "<Figure size 720x720 with 1 Axes>"
      ]
     },
     "metadata": {
      "needs_background": "light"
     },
     "output_type": "display_data"
    }
   ],
   "source": [
    "get_roc_plot(y_predicted_proba[:,1], y_test, figsize=(10,10))"
   ]
  },
  {
   "cell_type": "code",
   "execution_count": 17,
   "metadata": {},
   "outputs": [
    {
     "data": {
      "image/png": "[encoded data removed]",
      "text/plain": [
       "<Figure size 648x648 with 2 Axes>"
      ]
     },
     "metadata": {
      "needs_background": "light"
     },
     "output_type": "display_data"
    }
   ],
   "source": [
    "get_confusion_matrix_plot(y_predicted, y_test, figsize=(9, 9))"
   ]
  },
  {
   "cell_type": "code",
   "execution_count": 18,
   "metadata": {},
   "outputs": [
    {
     "name": "stderr",
     "output_type": "stream",
     "text": [
      "No handles with labels found to put in legend.\n"
     ]
    },
    {
     "name": "stdout",
     "output_type": "stream",
     "text": [
      "\tBrier: 0.239\n"
     ]
    },
    {
     "data": {
      "image/png": "[encoded data removed]",
      "text/plain": [
       "<Figure size 648x648 with 2 Axes>"
      ]
     },
     "metadata": {
      "needs_background": "light"
     },
     "output_type": "display_data"
    }
   ],
   "source": [
    "get_calibration_plot(y_predicted_proba[:,1], y_test, figsize=(9,9))"
   ]
  },
  {
   "cell_type": "markdown",
   "metadata": {},
   "source": [
    "세 번째 모델은 이해하기 쉬운 특성만 사용하고 이전 모델보다 더 보정이 잘 되어 있습니다. 이 애플리케이션에 매우 좋은 후보 모델입니다(자세한 비교 내용은 `Comparing Models`을 참고하세요)."
   ]
  },
  {
   "cell_type": "markdown",
   "metadata": {},
   "source": [
    "## 추론 함수\n",
    "\n",
    "이전 두 개의 모델과 마찬가지로 임의의 질문을 받고 높은 점수를 받을 추정 확률을 출력하는 추론 함수를 정의합니다."
   ]
  },
  {
   "cell_type": "code",
   "execution_count": 19,
   "metadata": {},
   "outputs": [
    {
     "name": "stderr",
     "output_type": "stream",
     "text": [
      "100%|█████████████████████████████████████████████████████████████████████████████████████████████████████████| 1/1 [00:00<00:00, 106.22it/s]\n",
      "100%|█████████████████████████████████████████████████████████████████████████████████████████████████████████| 1/1 [00:00<00:00, 928.56it/s]"
     ]
    },
    {
     "name": "stdout",
     "output_type": "stream",
     "text": [
      "0.36 probability of the question receiving a high score according to our model\n"
     ]
    },
    {
     "name": "stderr",
     "output_type": "stream",
     "text": [
      "\n"
     ]
    }
   ],
   "source": [
    "pos_prob = get_question_score_from_input(\"\"\"\n",
    "When quoting a person's informal speech, how much liberty do you have to make changes to what they say?\n",
    "\"\"\")\n",
    "\n",
    "print(\"%s probability of the question receiving a high score according to our model\" % (pos_prob))"
   ]
  }
 ],
 "metadata": {
  "kernelspec": {
   "display_name": "Python 3 (ipykernel)",
   "language": "python",
   "name": "python3"
  },
  "language_info": {
   "codemirror_mode": {
    "name": "ipython",
    "version": 3
   },
   "file_extension": ".py",
   "mimetype": "text/x-python",
   "name": "python",
   "nbconvert_exporter": "python",
   "pygments_lexer": "ipython3",
   "version": "3.7.3"
  }
 },
 "nbformat": 4,
 "nbformat_minor": 2
}
