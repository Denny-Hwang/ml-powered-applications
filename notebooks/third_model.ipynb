{
 "cells": [
  {
   "cell_type": "markdown",
   "metadata": {},
   "source": [
    "# Selecting useful features\n",
    "\n",
    "When looking at the second model's feature importances, we saw that the TF-IDF vectorization features were suspiciously absent from the most important features we displayed. To verify that a model can perform well without these features, let's omit them and train a third model."
   ]
  },
  {
   "cell_type": "code",
   "execution_count": 1,
   "metadata": {},
   "outputs": [
    {
     "name": "stderr",
     "output_type": "stream",
     "text": [
      "[nltk_data] Downloading package vader_lexicon to\n",
      "[nltk_data]     /Users/haesun/nltk_data...\n",
      "[nltk_data]   Package vader_lexicon is already up-to-date!\n"
     ]
    }
   ],
   "source": [
    "import pandas as pd\n",
    "import numpy as np\n",
    "import matplotlib.pyplot as plt\n",
    "from pathlib import Path\n",
    "from sklearn.ensemble import RandomForestClassifier\n",
    "from sklearn.metrics import accuracy_score, f1_score, precision_score, recall_score, classification_report\n",
    "import joblib\n",
    "import sys\n",
    "sys.path.append(\"..\")\n",
    "import warnings\n",
    "warnings.filterwarnings('ignore')\n",
    "\n",
    "from ml_editor.data_processing import (\n",
    "    format_raw_df,\n",
    "    get_split_by_author\n",
    ")\n",
    "from ml_editor.model_v2 import (\n",
    "    add_char_count_features,\n",
    "    get_word_stats,\n",
    "    get_sentiment_score,\n",
    "    POS_NAMES,\n",
    "    get_question_score_from_input\n",
    ")\n",
    "from ml_editor.model_evaluation import (\n",
    "    get_feature_importance,\n",
    "    get_roc_plot,\n",
    "    get_confusion_matrix_plot,\n",
    "    get_calibration_plot\n",
    ")\n",
    "%load_ext autoreload\n",
    "%autoreload 2\n",
    "np.random.seed(35)\n",
    "\n",
    "data_path = Path('../data/writers.csv')\n",
    "df = pd.read_csv(data_path)\n",
    "df = format_raw_df(df.copy())\n",
    "\n",
    "df = df.loc[df[\"is_question\"]].copy()"
   ]
  },
  {
   "cell_type": "code",
   "execution_count": 2,
   "metadata": {},
   "outputs": [],
   "source": [
    "df[\"full_text\"] = df[\"Title\"].str.cat(df[\"body_text\"], sep=\" \", na_rep=\"\")"
   ]
  },
  {
   "cell_type": "markdown",
   "metadata": {},
   "source": [
    "The function below add features. Feel free to check out the ml_editor source code to see more about what these functions are doing!"
   ]
  },
  {
   "cell_type": "code",
   "execution_count": 3,
   "metadata": {},
   "outputs": [
    {
     "name": "stderr",
     "output_type": "stream",
     "text": [
      "100%|██████████| 7971/7971 [02:16<00:00, 58.48it/s]\n",
      "100%|██████████| 7971/7971 [00:09<00:00, 803.91it/s]\n"
     ]
    }
   ],
   "source": [
    "df = add_char_count_features(df.copy())\n",
    "df = get_word_stats(df.copy())\n",
    "df = get_sentiment_score(df.copy())"
   ]
  },
  {
   "cell_type": "code",
   "execution_count": 4,
   "metadata": {},
   "outputs": [],
   "source": [
    "feature_arr = [\"num_questions\", \n",
    "               \"num_periods\",\n",
    "               \"num_commas\",\n",
    "               \"num_exclam\",\n",
    "               \"num_quotes\",\n",
    "               \"num_colon\",\n",
    "               \"num_stops\",\n",
    "               \"num_semicolon\",\n",
    "               \"num_words\",\n",
    "               \"num_chars\",\n",
    "               \"num_diff_words\",\n",
    "               \"avg_word_len\",\n",
    "               \"polarity\"\n",
    "              ]\n",
    "feature_arr.extend(POS_NAMES.keys())"
   ]
  },
  {
   "cell_type": "markdown",
   "metadata": {},
   "source": [
    "# Model\n",
    "\n",
    "Now that we've added our new features, let's train a new model. We'll use the same architecture as before, but with new features. You can visualize the new features below."
   ]
  },
  {
   "cell_type": "code",
   "execution_count": 5,
   "metadata": {},
   "outputs": [],
   "source": [
    "# We split again since we have now added all features. \n",
    "train_df, test_df = get_split_by_author(df, test_size=0.2, random_state=40)"
   ]
  },
  {
   "cell_type": "code",
   "execution_count": 6,
   "metadata": {},
   "outputs": [
    {
     "data": {
      "text/html": [
       "<div>\n",
       "<style scoped>\n",
       "    .dataframe tbody tr th:only-of-type {\n",
       "        vertical-align: middle;\n",
       "    }\n",
       "\n",
       "    .dataframe tbody tr th {\n",
       "        vertical-align: top;\n",
       "    }\n",
       "\n",
       "    .dataframe thead th {\n",
       "        text-align: right;\n",
       "    }\n",
       "</style>\n",
       "<table border=\"1\" class=\"dataframe\">\n",
       "  <thead>\n",
       "    <tr style=\"text-align: right;\">\n",
       "      <th></th>\n",
       "      <th>num_questions</th>\n",
       "      <th>num_periods</th>\n",
       "      <th>num_commas</th>\n",
       "      <th>num_exclam</th>\n",
       "      <th>num_quotes</th>\n",
       "      <th>num_colon</th>\n",
       "      <th>num_stops</th>\n",
       "      <th>num_semicolon</th>\n",
       "      <th>num_words</th>\n",
       "      <th>num_chars</th>\n",
       "      <th>...</th>\n",
       "      <th>NOUN</th>\n",
       "      <th>NUM</th>\n",
       "      <th>PART</th>\n",
       "      <th>PRON</th>\n",
       "      <th>PROPN</th>\n",
       "      <th>PUNCT</th>\n",
       "      <th>SCONJ</th>\n",
       "      <th>SYM</th>\n",
       "      <th>VERB</th>\n",
       "      <th>X</th>\n",
       "    </tr>\n",
       "    <tr>\n",
       "      <th>Id</th>\n",
       "      <th></th>\n",
       "      <th></th>\n",
       "      <th></th>\n",
       "      <th></th>\n",
       "      <th></th>\n",
       "      <th></th>\n",
       "      <th></th>\n",
       "      <th></th>\n",
       "      <th></th>\n",
       "      <th></th>\n",
       "      <th></th>\n",
       "      <th></th>\n",
       "      <th></th>\n",
       "      <th></th>\n",
       "      <th></th>\n",
       "      <th></th>\n",
       "      <th></th>\n",
       "      <th></th>\n",
       "      <th></th>\n",
       "      <th></th>\n",
       "      <th></th>\n",
       "    </tr>\n",
       "  </thead>\n",
       "  <tbody>\n",
       "    <tr>\n",
       "      <th>1</th>\n",
       "      <td>56.818182</td>\n",
       "      <td>56.818182</td>\n",
       "      <td>28.409091</td>\n",
       "      <td>0.0</td>\n",
       "      <td>0.000000</td>\n",
       "      <td>0.0</td>\n",
       "      <td>1022.727273</td>\n",
       "      <td>0.0</td>\n",
       "      <td>2073.863636</td>\n",
       "      <td>35200</td>\n",
       "      <td>...</td>\n",
       "      <td>3.409091</td>\n",
       "      <td>0.000000</td>\n",
       "      <td>1.136364</td>\n",
       "      <td>2.272727</td>\n",
       "      <td>0.000000</td>\n",
       "      <td>1.988636</td>\n",
       "      <td>0.000000</td>\n",
       "      <td>0.000000</td>\n",
       "      <td>3.409091</td>\n",
       "      <td>0.0</td>\n",
       "    </tr>\n",
       "    <tr>\n",
       "      <th>2</th>\n",
       "      <td>90.634441</td>\n",
       "      <td>30.211480</td>\n",
       "      <td>60.422961</td>\n",
       "      <td>0.0</td>\n",
       "      <td>60.422961</td>\n",
       "      <td>0.0</td>\n",
       "      <td>1087.613293</td>\n",
       "      <td>0.0</td>\n",
       "      <td>2024.169184</td>\n",
       "      <td>33100</td>\n",
       "      <td>...</td>\n",
       "      <td>4.229607</td>\n",
       "      <td>0.000000</td>\n",
       "      <td>0.000000</td>\n",
       "      <td>1.510574</td>\n",
       "      <td>0.000000</td>\n",
       "      <td>2.416918</td>\n",
       "      <td>0.302115</td>\n",
       "      <td>0.000000</td>\n",
       "      <td>1.510574</td>\n",
       "      <td>0.0</td>\n",
       "    </tr>\n",
       "    <tr>\n",
       "      <th>3</th>\n",
       "      <td>175.438596</td>\n",
       "      <td>87.719298</td>\n",
       "      <td>87.719298</td>\n",
       "      <td>0.0</td>\n",
       "      <td>0.000000</td>\n",
       "      <td>0.0</td>\n",
       "      <td>1491.228070</td>\n",
       "      <td>0.0</td>\n",
       "      <td>2719.298246</td>\n",
       "      <td>11400</td>\n",
       "      <td>...</td>\n",
       "      <td>2.631579</td>\n",
       "      <td>0.877193</td>\n",
       "      <td>0.000000</td>\n",
       "      <td>6.140351</td>\n",
       "      <td>0.000000</td>\n",
       "      <td>3.508772</td>\n",
       "      <td>0.000000</td>\n",
       "      <td>0.000000</td>\n",
       "      <td>5.263158</td>\n",
       "      <td>0.0</td>\n",
       "    </tr>\n",
       "    <tr>\n",
       "      <th>5</th>\n",
       "      <td>70.257611</td>\n",
       "      <td>46.838407</td>\n",
       "      <td>117.096019</td>\n",
       "      <td>0.0</td>\n",
       "      <td>0.000000</td>\n",
       "      <td>0.0</td>\n",
       "      <td>843.091335</td>\n",
       "      <td>0.0</td>\n",
       "      <td>2154.566745</td>\n",
       "      <td>42700</td>\n",
       "      <td>...</td>\n",
       "      <td>3.981265</td>\n",
       "      <td>0.000000</td>\n",
       "      <td>1.170960</td>\n",
       "      <td>0.702576</td>\n",
       "      <td>0.000000</td>\n",
       "      <td>2.810304</td>\n",
       "      <td>0.234192</td>\n",
       "      <td>0.234192</td>\n",
       "      <td>3.278689</td>\n",
       "      <td>0.0</td>\n",
       "    </tr>\n",
       "    <tr>\n",
       "      <th>7</th>\n",
       "      <td>135.135135</td>\n",
       "      <td>67.567568</td>\n",
       "      <td>67.567568</td>\n",
       "      <td>0.0</td>\n",
       "      <td>0.000000</td>\n",
       "      <td>0.0</td>\n",
       "      <td>945.945946</td>\n",
       "      <td>0.0</td>\n",
       "      <td>2027.027027</td>\n",
       "      <td>14800</td>\n",
       "      <td>...</td>\n",
       "      <td>2.702703</td>\n",
       "      <td>0.000000</td>\n",
       "      <td>0.000000</td>\n",
       "      <td>2.702703</td>\n",
       "      <td>1.351351</td>\n",
       "      <td>2.702703</td>\n",
       "      <td>0.675676</td>\n",
       "      <td>0.000000</td>\n",
       "      <td>2.027027</td>\n",
       "      <td>0.0</td>\n",
       "    </tr>\n",
       "  </tbody>\n",
       "</table>\n",
       "<p>5 rows × 30 columns</p>\n",
       "</div>"
      ],
      "text/plain": [
       "    num_questions  num_periods  num_commas  num_exclam  num_quotes  num_colon  \\\n",
       "Id                                                                              \n",
       "1       56.818182    56.818182   28.409091         0.0    0.000000        0.0   \n",
       "2       90.634441    30.211480   60.422961         0.0   60.422961        0.0   \n",
       "3      175.438596    87.719298   87.719298         0.0    0.000000        0.0   \n",
       "5       70.257611    46.838407  117.096019         0.0    0.000000        0.0   \n",
       "7      135.135135    67.567568   67.567568         0.0    0.000000        0.0   \n",
       "\n",
       "      num_stops  num_semicolon    num_words  num_chars  ...      NOUN  \\\n",
       "Id                                                      ...             \n",
       "1   1022.727273            0.0  2073.863636      35200  ...  3.409091   \n",
       "2   1087.613293            0.0  2024.169184      33100  ...  4.229607   \n",
       "3   1491.228070            0.0  2719.298246      11400  ...  2.631579   \n",
       "5    843.091335            0.0  2154.566745      42700  ...  3.981265   \n",
       "7    945.945946            0.0  2027.027027      14800  ...  2.702703   \n",
       "\n",
       "         NUM      PART      PRON     PROPN     PUNCT     SCONJ       SYM  \\\n",
       "Id                                                                         \n",
       "1   0.000000  1.136364  2.272727  0.000000  1.988636  0.000000  0.000000   \n",
       "2   0.000000  0.000000  1.510574  0.000000  2.416918  0.302115  0.000000   \n",
       "3   0.877193  0.000000  6.140351  0.000000  3.508772  0.000000  0.000000   \n",
       "5   0.000000  1.170960  0.702576  0.000000  2.810304  0.234192  0.234192   \n",
       "7   0.000000  0.000000  2.702703  1.351351  2.702703  0.675676  0.000000   \n",
       "\n",
       "        VERB    X  \n",
       "Id                 \n",
       "1   3.409091  0.0  \n",
       "2   1.510574  0.0  \n",
       "3   5.263158  0.0  \n",
       "5   3.278689  0.0  \n",
       "7   2.027027  0.0  \n",
       "\n",
       "[5 rows x 30 columns]"
      ]
     },
     "execution_count": 6,
     "metadata": {},
     "output_type": "execute_result"
    }
   ],
   "source": [
    "df[feature_arr].head()*100"
   ]
  },
  {
   "cell_type": "code",
   "execution_count": 7,
   "metadata": {},
   "outputs": [],
   "source": [
    "def get_feature_vector_and_label(df, feature_names):\n",
    "    \"\"\"\n",
    "    Generate input and output vectors using the vectors feature and\n",
    "     the given feature names\n",
    "    :param df: input DataFrame\n",
    "    :param feature_names: names of feature columns (other than vectors)\n",
    "    :return: feature array and label array\n",
    "    \"\"\"\n",
    "    features = df[feature_names].astype(float)\n",
    "    labels = df[\"Score\"] > df[\"Score\"].median()\n",
    "    return features, labels\n",
    "\n",
    "X_train, y_train = get_feature_vector_and_label(train_df, feature_arr)\n",
    "X_test, y_test = get_feature_vector_and_label(test_df, feature_arr)"
   ]
  },
  {
   "cell_type": "code",
   "execution_count": 8,
   "metadata": {},
   "outputs": [
    {
     "data": {
      "text/plain": [
       "False    3483\n",
       "True     2959\n",
       "Name: Score, dtype: int64"
      ]
     },
     "execution_count": 8,
     "metadata": {},
     "output_type": "execute_result"
    }
   ],
   "source": [
    "y_train.value_counts()"
   ]
  },
  {
   "cell_type": "code",
   "execution_count": 9,
   "metadata": {},
   "outputs": [
    {
     "data": {
      "text/plain": [
       "(1529, 30)"
      ]
     },
     "execution_count": 9,
     "metadata": {},
     "output_type": "execute_result"
    }
   ],
   "source": [
    "X_test.shape"
   ]
  },
  {
   "cell_type": "markdown",
   "metadata": {},
   "source": [
    "We train a model using `sklearn`, and measure its performance using the methods we've covered before."
   ]
  },
  {
   "cell_type": "code",
   "execution_count": 10,
   "metadata": {},
   "outputs": [],
   "source": [
    "clf = RandomForestClassifier(n_estimators=100, class_weight='balanced', oob_score=True)\n",
    "clf.fit(X_train, y_train)\n",
    "\n",
    "y_predicted = clf.predict(X_test)\n",
    "y_predicted_proba = clf.predict_proba(X_test)"
   ]
  },
  {
   "cell_type": "code",
   "execution_count": 11,
   "metadata": {},
   "outputs": [
    {
     "name": "stdout",
     "output_type": "stream",
     "text": [
      "Training accuracy = 0.577, precision = 0.550, recall = 0.438, f1 = 0.488\n"
     ]
    }
   ],
   "source": [
    "def get_metrics(y_test, y_predicted):  \n",
    "    # true positives / (true positives+false positives)\n",
    "    precision = precision_score(y_test, y_predicted, pos_label=True,\n",
    "                                    average='binary')             \n",
    "    # true positives / (true positives + false negatives)\n",
    "    recall = recall_score(y_test, y_predicted, pos_label=True,\n",
    "                              average='binary')\n",
    "    \n",
    "    # harmonic mean of precision and recall\n",
    "    f1 = f1_score(y_test, y_predicted, pos_label=True, average='binary')\n",
    "    \n",
    "    # true positives + true negatives/ total\n",
    "    accuracy = accuracy_score(y_test, y_predicted)\n",
    "    return accuracy, precision, recall, f1\n",
    "\n",
    "\n",
    "\n",
    "# Training accuracy\n",
    "# Thanks to https://datascience.stackexchange.com/questions/13151/randomforestclassifier-oob-scoring-method\n",
    "y_train_pred = np.argmax(clf.oob_decision_function_,axis=1)\n",
    "\n",
    "accuracy, precision, recall, f1 = get_metrics(y_train, y_train_pred)\n",
    "print(\"Training accuracy = %.3f, precision = %.3f, recall = %.3f, f1 = %.3f\" % (accuracy, precision, recall, f1))"
   ]
  },
  {
   "cell_type": "code",
   "execution_count": 12,
   "metadata": {},
   "outputs": [
    {
     "name": "stdout",
     "output_type": "stream",
     "text": [
      "Validation accuracy = 0.593, precision = 0.605, recall = 0.483, f1 = 0.537\n"
     ]
    }
   ],
   "source": [
    "accuracy, precision, recall, f1 = get_metrics(y_test, y_predicted)\n",
    "print(\"Validation accuracy = %.3f, precision = %.3f, recall = %.3f, f1 = %.3f\" % (accuracy, precision, recall, f1))"
   ]
  },
  {
   "cell_type": "markdown",
   "metadata": {},
   "source": [
    "Let's save our new model and vectorizer to disk so we can use it later."
   ]
  },
  {
   "cell_type": "code",
   "execution_count": 13,
   "metadata": {},
   "outputs": [
    {
     "data": {
      "text/plain": [
       "['../models/model_3.pkl']"
      ]
     },
     "execution_count": 13,
     "metadata": {},
     "output_type": "execute_result"
    }
   ],
   "source": [
    "model_path = Path(\"../models/model_3.pkl\")\n",
    "joblib.dump(clf, model_path) "
   ]
  },
  {
   "cell_type": "markdown",
   "metadata": {},
   "source": [
    "## Validating that features are useful\n",
    "\n",
    "Let's look at feature importances to validate that our new features are being used by the new model."
   ]
  },
  {
   "cell_type": "code",
   "execution_count": 14,
   "metadata": {},
   "outputs": [],
   "source": [
    "all_feature_names = np.array(feature_arr)"
   ]
  },
  {
   "cell_type": "code",
   "execution_count": 15,
   "metadata": {
    "scrolled": true
   },
   "outputs": [
    {
     "name": "stdout",
     "output_type": "stream",
     "text": [
      "Top 20 importances:\n",
      "\n",
      "num_questions: 0.048\n",
      "num_chars: 0.048\n",
      "num_periods: 0.048\n",
      "num_diff_words: 0.047\n",
      "ADJ: 0.047\n",
      "AUX: 0.044\n",
      "DET: 0.043\n",
      "ADV: 0.043\n",
      "NOUN: 0.043\n",
      "PUNCT: 0.042\n",
      "num_commas: 0.042\n",
      "PART: 0.042\n",
      "ADP: 0.041\n",
      "VERB: 0.041\n",
      "num_stops: 0.041\n",
      "PRON: 0.04\n",
      "polarity: 0.04\n",
      "avg_word_len: 0.039\n",
      "num_words: 0.038\n",
      "SCONJ: 0.034\n",
      "\n",
      "Bottom 20 importances:\n",
      "\n",
      "num_commas: 0.042\n",
      "PART: 0.042\n",
      "ADP: 0.041\n",
      "VERB: 0.041\n",
      "num_stops: 0.041\n",
      "PRON: 0.04\n",
      "polarity: 0.04\n",
      "avg_word_len: 0.039\n",
      "num_words: 0.038\n",
      "SCONJ: 0.034\n",
      "PROPN: 0.029\n",
      "NUM: 0.026\n",
      "num_colon: 0.022\n",
      "num_quotes: 0.019\n",
      "INTJ: 0.014\n",
      "SYM: 0.014\n",
      "X: 0.01\n",
      "num_exclam: 0.0072\n",
      "num_semicolon: 0.007\n",
      "CONJ: 0\n"
     ]
    }
   ],
   "source": [
    "k = 20\n",
    "print(\"Top %s importances:\\n\" % k)\n",
    "print('\\n'.join([\"%s: %.2g\" % (tup[0], tup[1]) for tup in get_feature_importance(clf, all_feature_names)[:k]]))\n",
    "\n",
    "print(\"\\nBottom %s importances:\\n\" % k)\n",
    "print('\\n'.join([\"%s: %.2g\" % (tup[0], tup[1]) for tup in get_feature_importance(clf, all_feature_names)[-k:]]))"
   ]
  },
  {
   "cell_type": "markdown",
   "metadata": {},
   "source": [
    "## Comparing predictions to data\n",
    "\n",
    "This section uses the evaluation methods described in the Comparing Data To Predictions [notebook](https://github.com/hundredblocks/ml-powered-applications/blob/master/notebooks/comparing_data_to_predictions.ipynb) on this third model."
   ]
  },
  {
   "cell_type": "code",
   "execution_count": 16,
   "metadata": {},
   "outputs": [
    {
     "data": {
      "image/png": "[encoded data removed]",
      "text/plain": [
       "<Figure size 720x720 with 1 Axes>"
      ]
     },
     "metadata": {
      "needs_background": "light"
     },
     "output_type": "display_data"
    }
   ],
   "source": [
    "get_roc_plot(y_predicted_proba[:,1], y_test, figsize=(10,10))"
   ]
  },
  {
   "cell_type": "code",
   "execution_count": 17,
   "metadata": {},
   "outputs": [
    {
     "data": {
      "image/png": "[encoded data removed]",
      "text/plain": [
       "<Figure size 648x648 with 2 Axes>"
      ]
     },
     "metadata": {
      "needs_background": "light"
     },
     "output_type": "display_data"
    }
   ],
   "source": [
    "get_confusion_matrix_plot(y_predicted, y_test, figsize=(9, 9))"
   ]
  },
  {
   "cell_type": "code",
   "execution_count": 18,
   "metadata": {},
   "outputs": [
    {
     "name": "stderr",
     "output_type": "stream",
     "text": [
      "No handles with labels found to put in legend.\n"
     ]
    },
    {
     "name": "stdout",
     "output_type": "stream",
     "text": [
      "\tBrier: 0.236\n"
     ]
    },
    {
     "data": {
      "image/png": "[encoded data removed]",
      "text/plain": [
       "<Figure size 648x648 with 2 Axes>"
      ]
     },
     "metadata": {
      "needs_background": "light"
     },
     "output_type": "display_data"
    }
   ],
   "source": [
    "get_calibration_plot(y_predicted_proba[:,1], y_test, figsize=(9,9))"
   ]
  },
  {
   "cell_type": "markdown",
   "metadata": {},
   "source": [
    "This third model only uses features that can be easily interpreted, and is better calibrated than previous models. This makes it a very good candidate for our application (feel free to look at `Comparing Models` for a more detailed comparison)."
   ]
  },
  {
   "cell_type": "markdown",
   "metadata": {},
   "source": [
    "## Running Inference\n",
    "\n",
    "Just like for our first two models, we define an inference function that takes in an arbitrary question and outputs an estimated probability of it receiving a high score according to our model."
   ]
  },
  {
   "cell_type": "code",
   "execution_count": 19,
   "metadata": {},
   "outputs": [
    {
     "name": "stderr",
     "output_type": "stream",
     "text": [
      "100%|██████████| 1/1 [00:00<00:00, 173.88it/s]\n",
      "100%|██████████| 1/1 [00:00<00:00, 1769.75it/s]"
     ]
    },
    {
     "name": "stdout",
     "output_type": "stream",
     "text": [
      "0.38 probability of the question receiving a high score according to our model\n"
     ]
    },
    {
     "name": "stderr",
     "output_type": "stream",
     "text": [
      "\n"
     ]
    }
   ],
   "source": [
    "pos_prob = get_question_score_from_input(\"\"\"\n",
    "When quoting a person's informal speech, how much liberty do you have to make changes to what they say?\n",
    "\"\"\")\n",
    "\n",
    "print(\"%s probability of the question receiving a high score according to our model\" % (pos_prob))"
   ]
  }
 ],
 "metadata": {
  "kernelspec": {
   "display_name": "Python 3",
   "language": "python",
   "name": "python3"
  },
  "language_info": {
   "codemirror_mode": {
    "name": "ipython",
    "version": 3
   },
   "file_extension": ".py",
   "mimetype": "text/x-python",
   "name": "python",
   "nbconvert_exporter": "python",
   "pygments_lexer": "ipython3",
   "version": "3.7.3"
  }
 },
 "nbformat": 4,
 "nbformat_minor": 2
}
